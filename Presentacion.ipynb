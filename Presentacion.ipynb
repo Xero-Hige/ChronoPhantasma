{
 "cells": [
  {
   "cell_type": "markdown",
   "metadata": {},
   "source": [
    "# Chrono Phantasma\n",
    "### Resolucion del problema de _load balance_ usando _Game Theory_ y _Genetic Algorithms_"
   ]
  },
  {
   "cell_type": "markdown",
   "metadata": {},
   "source": [
    "### El problema\n",
    "\n",
    "Distribuir trabajos de varios clientes entre varias computadoras distribuidas, intentando minimizar el tiempo de respuesta de todos\n",
    "\n",
    "#### Estatico vs Dinamico \n",
    "\n",
    "Las estrategias estaticas no agregan un overhead para determinar donde distribuir los trabajos. A su vez requieren conocer a priori informacion del sistema:\n",
    "\n",
    "* Round Robin\n",
    "* Control Centralizado\n",
    "* Random\n",
    "\n",
    "Este tipo de estrategias varian mucho en su efectividad segun las cualidades de el/los clientes y de la de las maquinas. Asimismo, no pueden reaccionar ante sobrecargas en las maquinas. \n",
    "\n",
    "Los algoritmos dinamicos para distribucion de trabajos tienen la capacidad de adaptarse a los cambios del sistema, pero requieren poder constantemente obtener informacion de las maqinas.\n",
    "\n",
    "* Indices de carga\n",
    "\n",
    "### Condiciones del trabajo\n",
    "Supongamos que estamos modelizando un sistema distribuido que se encarga de tomar fotos del espacio y procesarlas. Hay n clientes que toman fotos de distintas partes del cosmos y m maquinas que pueden procesarlas para descubrir nuevas estrellas.\n",
    "\n",
    "* Cada cliente i, saca una foto del espacio con una probabilidad exp( L_i )\n",
    "* Cada foto puede ser infinitamente divisible \n",
    "* Cada division de la imagen puede ser analizada de forma aislada\n",
    "* Cada maquina atiende los trabajos en orden de llegada\n",
    "* Los trabajos llegan a cada maquina segun un proceso de Poisson \n",
    "* Los trabajos son fotos o partes de fotos a procesar\n",
    "* Las fotos generadas por cada cliente son iguales en tamaño\n",
    "* Cada maquina tiene una velocidad distinta para procesar una imagen completa\n",
    "* El tiempo de ejecucion de un trabajo es proporcional al tamaño de la imagen enviada\n",
    "* Existe capacidad suficiente en **el total maquinas** para procesar todo\n",
    "\n",
    "Ademas se establecen las siguientes restricciones para garantizar que el problema tenga solucion\n",
    "<img src=\"./resources/Selección_044.jpg?2\">\n"
   ]
  },
  {
   "cell_type": "markdown",
   "metadata": {},
   "source": [
    "## Partes del trabajo\n",
    "\n",
    "### Simulador\n",
    "Se desarrollo un simulador en Python basado en procesos y pipes (usados como colas de mensajes). Se divide en 3 partes:\n",
    "* Clientes: Crean trabajos cada exp(L)\n",
    "* Maquinas: Simulan procesar los trabajos que entran por la cola, con una velocidad x\n",
    "* Simulador: Crea la simulacion en base a un archivo json que contiene las especificaciones del sistema\n",
    "\n",
    "### Optimizador\n",
    "Es un modulo escrito tambien en Python que optimiza la distribucion de trabajos de cada cliente, basandose en un algoritmo genetico."
   ]
  },
  {
   "cell_type": "markdown",
   "metadata": {},
   "source": [
    "## Ejemplo de aplicacion\n",
    "### La peor idea del mundo, todos a la misma maquina"
   ]
  },
  {
   "cell_type": "code",
   "execution_count": 4,
   "metadata": {},
   "outputs": [
    {
     "name": "stdout",
     "output_type": "stream",
     "text": [
      "{\n",
      "  \"machines_times\": [0.03, 0.03, 0.01, 0.02, 0.03, 0.05],\n",
      "  \"clients\": [\n",
      "    {\n",
      "      \"lambda\": 3,\n",
      "      \"allocation\": [1, 0, 0, 0, 0, 0]\n",
      "    }, {\n",
      "      \"lambda\": 3,\n",
      "      \"allocation\": [1, 0, 0, 0, 0, 0]\n"
     ]
    }
   ],
   "source": [
    "head ./src/worst_idea_worst.json -n 9"
   ]
  },
  {
   "cell_type": "code",
   "execution_count": null,
   "metadata": {},
   "outputs": [],
   "source": [
    "python3 ./src/simulation.py ./src/worst_idea_worst.json 20 ./resources/worst_idea.png"
   ]
  },
  {
   "cell_type": "markdown",
   "metadata": {},
   "source": [
    "<img src=\"./resources/worst_idea.png?2\">"
   ]
  },
  {
   "cell_type": "markdown",
   "metadata": {},
   "source": [
    "## Modelando el problema segun Game Theory\n",
    "\n",
    "El problema de _load balancing_ se puede modelar como un juego entre los n clientes que hacen las veces de jugadores. El modelo adoptado para este proyecto tiene las siguientes caracteristicas:\n",
    "\n",
    "* Juego no cooperativo\n",
    "* Juego no simetrico\n",
    "  * Cualquier problema de _load balancing_ que cuente con un grupo de clientes no heterogeneos es un juego no simetrico\n",
    "* Juego con estrategias mixtas\n",
    "* Existe un equilibrio de Nash\n",
    "* No es de suma cero\n",
    "\n",
    "### Por que no cooperativo?\n",
    "\n",
    "Los diversos agentes funcionando de manera egoista, buscan minimizar su propio tiempo de respuesta. Estas acciones no solo benefician al jugador, sino que benefician al resto de los jugadores."
   ]
  },
  {
   "cell_type": "markdown",
   "metadata": {},
   "source": [
    "## Movemos un solo cliente de maquina"
   ]
  },
  {
   "cell_type": "code",
   "execution_count": 5,
   "metadata": {},
   "outputs": [
    {
     "name": "stdout",
     "output_type": "stream",
     "text": [
      "{\n",
      "  \"machines_times\": [0.03, 0.03, 0.01, 0.02, 0.03, 0.05],\n",
      "  \"clients\": [\n",
      "    {\n",
      "      \"lambda\": 3,\n",
      "      \"allocation\": [0, 1, 0, 0, 0, 0]\n",
      "    }, {\n",
      "      \"lambda\": 3,\n",
      "      \"allocation\": [1, 0, 0, 0, 0, 0]\n"
     ]
    }
   ],
   "source": [
    "head ./src/worst_idea_not_worst.json -n 9"
   ]
  },
  {
   "cell_type": "code",
   "execution_count": null,
   "metadata": {},
   "outputs": [],
   "source": [
    "python3 ./src/simulation.py ./src/worst_idea_not_worst.json 20 ./resources/not_the_worst_idea.png"
   ]
  },
  {
   "cell_type": "markdown",
   "metadata": {},
   "source": [
    "<img src=\"./resources/not_the_worst_idea.png?2\">"
   ]
  },
  {
   "attachments": {},
   "cell_type": "markdown",
   "metadata": {},
   "source": [
    "## Especificaciones del algoritmo genetico utilizado\n",
    "\n",
    "### Cruza y mutacion:\n",
    "\n",
    "De cada generacion se elige solo el 50% de la misma para pasar a la siguiente. El resto de la poblacion de la siguiente generacion se obtiene por cruza, mutacion o generacion espontanea, con distintas probabilidades\n",
    "\n",
    "#### Metodo de cruza:\n",
    "\n",
    "Para las cruzas se utiliza cruza simple, que no es mas que generar 2 nuevos individuos con la mitad de los cromosomas de los padres. Para este caso particular, es necesario normalizar las partes intercambiadas, de forma que las cruzas sean soluciones validas.\n",
    "\n",
    "#### Metodo de mutacion:\n",
    "\n",
    "Para las mutaciones hay 3 estrategias con distintas probabilidaes:\n",
    "* Shuffle: Se mueven todos los valores del cromosoma de forma completamente aleatoria\n",
    "* Swap: Se intercambian solo dos valores del cromosoma\n",
    "* Realloc: Se reduce una porcion de uno de los valores del cromosoma y se lo pasa a otro\n",
    "\n",
    "#### Metodo de generacion espontanea:\n",
    "\n",
    "Para prevenir que las mutaciones o cruzas converjan a un minimo local, se crean individuos completamente aleatorios\n",
    "\n",
    "### Metodo de seleccion:\n",
    "Para elegir los individuos mas aptos para que pasen a la siguiente generacion y para elegir los individuos para cruzar/mutar, se utiliza tournamet selection. Para la siguiente generacion se hace torneo de a 2 y para las cruzas torneo de a 5. Los individuos de entre los cuales se elige para mutar, son aquellos que son aptos para pasar a la siguiente generacion.\n",
    "\n",
    "El \"ganador\" del torneo se elije comparando las funciones de fitness. En este caso, a menor valor de fitness, mas apto es el individuo.\n",
    "\n",
    "### Funcion de fitness\n",
    "Como funcion de fitness para cada estrategia se utiliza la prediccion del tiempo que insumiria dicha estrategia en las condiciones actuales del sistema. La formula es:\n",
    "\n",
    "<img src=\"./resources/Selección_042.jpg?2\">\n",
    "Donde \n",
    "<img src=\"./resources/Selección_043.jpg?2\">\n",
    "\n",
    "Ski es la fraccion de trabajo que el cliente k asigna a la maquina i, y es el L asociado al cliente K"
   ]
  },
  {
   "cell_type": "markdown",
   "metadata": {},
   "source": [
    "## Mejorando la estrategia mediante GA"
   ]
  },
  {
   "cell_type": "code",
   "execution_count": null,
   "metadata": {},
   "outputs": [],
   "source": [
    "python3 ./src/genetic_trainer.py ./src/worst_idea_worst.json ./src/worst_idea_optimization.json"
   ]
  },
  {
   "cell_type": "code",
   "execution_count": 7,
   "metadata": {},
   "outputs": [
    {
     "name": "stdout",
     "output_type": "stream",
     "text": [
      "{\n",
      "  \"machines_times\": [0.03, 0.03, 0.01, 0.02, 0.03, 0.05],\n",
      "  \"clients\": [\n",
      "    {\n",
      "      \"lambda\": 3,\n",
      "      \"allocation\": [\n",
      "        0.018603551143252607, 0.06801617171946417, 0.7632661600185777, 0.12954328492496697, 0.012724835103456986,\n",
      "        0.007845997090281512\n",
      "      ]\n"
     ]
    }
   ],
   "source": [
    "head ./src/worst_idea_optimization.json -n 9"
   ]
  },
  {
   "cell_type": "code",
   "execution_count": null,
   "metadata": {},
   "outputs": [],
   "source": [
    "python3 ./src/simulation.py ./src/worst_idea_optimization.json 20 ./resources/optimized_the_worst_idea.pnghead ./src/worst_idea_not_worst.json -n 9"
   ]
  },
  {
   "cell_type": "markdown",
   "metadata": {},
   "source": [
    "<img src=\"./resources/optimized_the_worst_idea.png?2\">"
   ]
  },
  {
   "cell_type": "markdown",
   "metadata": {},
   "source": [
    "# Material"
   ]
  },
  {
   "cell_type": "markdown",
   "metadata": {},
   "source": [
    "### Base para el trabajo\n",
    "* https://www.researchgate.net/publication/292394898_A_Combination_of_Game_Theory_and_Genetic_Algorithm_for_Load_Balancing_in_Distributed_Computer_Systems_PLEASE_REFERENCE_IN_YOUR_PAPERS\n",
    "\n",
    "### Load balance\n",
    "* https://www.sciencedirect.com/science/article/pii/S1877042814028705 \n",
    "\n",
    "### Game Theory & Load balance \n",
    "* https://we.vub.ac.be/sites/default/files/files/bachelor_scriptie_filip_moons.pdf\n",
    "* http://citeseerx.ist.psu.edu/viewdoc/download?doi=10.1.1.121.6142&rep=rep1&type=pdf\n",
    "\n",
    "### Problemas con Genetic Algorithms\n",
    "* https://iccl.inf.tu-dresden.de/w/images/b/b7/GA_for_TSP.pdf (Problema del viajante)\n",
    "* http://www.iaeng.org/publication/WCECS2012/WCECS2012_pp363-368.pdf (Generacion de identikits)\n",
    "* https://pdfs.semanticscholar.org/05a4/640bda446afac4466cff792de6a19e36ba47.pdf (Generacion de prendas)"
   ]
  },
  {
   "cell_type": "code",
   "execution_count": null,
   "metadata": {},
   "outputs": [],
   "source": []
  }
 ],
 "metadata": {
  "kernelspec": {
   "display_name": "Bash",
   "language": "bash",
   "name": "bash"
  },
  "language_info": {
   "codemirror_mode": "shell",
   "file_extension": ".sh",
   "mimetype": "text/x-sh",
   "name": "bash"
  }
 },
 "nbformat": 4,
 "nbformat_minor": 2
}
